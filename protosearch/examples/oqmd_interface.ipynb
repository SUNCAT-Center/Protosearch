{
 "cells": [
  {
   "cell_type": "markdown",
   "metadata": {},
   "source": [
    "# Creating a dataset of bulk crystals of uniue structural prototype\n",
    "___"
   ]
  },
  {
   "cell_type": "markdown",
   "metadata": {},
   "source": [
    "# Import Modules"
   ]
  },
  {
   "cell_type": "code",
   "execution_count": 20,
   "metadata": {},
   "outputs": [],
   "source": [
    "import os\n",
    "\n",
    "import pickle\n",
    "import pandas as pd\n",
    "\n",
    "from protosearch.build_bulk.oqmd_interface import OqmdInterface"
   ]
  },
  {
   "cell_type": "markdown",
   "metadata": {},
   "source": [
    "# Script Inputs"
   ]
  },
  {
   "cell_type": "code",
   "execution_count": 3,
   "metadata": {},
   "outputs": [],
   "source": [
    "user_elems = [\"O\", \"Al\"]"
   ]
  },
  {
   "cell_type": "markdown",
   "metadata": {},
   "source": [
    "# Instantiating Module"
   ]
  },
  {
   "cell_type": "code",
   "execution_count": 2,
   "metadata": {},
   "outputs": [],
   "source": [
    "db_path = os.path.join(\n",
    "    os.environ[\"PROJ_DATA\"],\n",
    "    \"05_prototype_ML_2/oqmd_data_from_meng\",\n",
    "    \"oqmd_ver3.db\",\n",
    "    )\n",
    "\n",
    "DB_inter = OqmdInterface(db_path)"
   ]
  },
  {
   "cell_type": "markdown",
   "metadata": {},
   "source": [
    "# Creating Unique Structures"
   ]
  },
  {
   "cell_type": "code",
   "execution_count": 6,
   "metadata": {},
   "outputs": [],
   "source": [
    "df_ab2 = DB_inter.create_proto_data_set(\n",
    "    \"AB2\",\n",
    "    user_elems,\n",
    "    verbose=True)\n",
    "\n",
    "df_ab3 = DB_inter.create_proto_data_set(\n",
    "    \"AB3\",\n",
    "    user_elems,\n",
    "    verbose=True)\n",
    "\n",
    "df_ab4 = DB_inter.create_proto_data_set(\n",
    "    \"AB4\",\n",
    "    user_elems,\n",
    "    verbose=True)"
   ]
  },
  {
   "cell_type": "markdown",
   "metadata": {},
   "source": [
    "# Combining Dataframes"
   ]
  },
  {
   "cell_type": "code",
   "execution_count": 21,
   "metadata": {},
   "outputs": [],
   "source": [
    "df_ab2[\"stoich\"] = [\"AB2\" for i in range(len(df_ab2))]\n",
    "df_ab3[\"stoich\"] = [\"AB3\" for i in range(len(df_ab3))]\n",
    "df_ab4[\"stoich\"] = [\"AB4\" for i in range(len(df_ab4))]\n",
    "\n",
    "frames = [df_ab2, df_ab3, df_ab4]\n",
    "\n",
    "df_m = pd.concat(frames)"
   ]
  },
  {
   "cell_type": "markdown",
   "metadata": {},
   "source": [
    "# Writing Data to File"
   ]
  },
  {
   "cell_type": "code",
   "execution_count": 25,
   "metadata": {},
   "outputs": [],
   "source": [
    "with open(\"__outdata__/data.pickle\", \"wb\") as fle:\n",
    "    pickle.dump(df_m, fle)"
   ]
  }
 ],
 "metadata": {
  "kernelspec": {
   "display_name": "Python 3",
   "language": "python",
   "name": "python3"
  },
  "language_info": {
   "codemirror_mode": {
    "name": "ipython",
    "version": 3
   },
   "file_extension": ".py",
   "mimetype": "text/x-python",
   "name": "python",
   "nbconvert_exporter": "python",
   "pygments_lexer": "ipython3",
   "version": "3.6.7"
  },
  "toc-autonumbering": true
 },
 "nbformat": 4,
 "nbformat_minor": 2
}
